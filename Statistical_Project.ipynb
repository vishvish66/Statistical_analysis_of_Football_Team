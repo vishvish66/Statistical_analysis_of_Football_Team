{
  "nbformat": 4,
  "nbformat_minor": 0,
  "metadata": {
    "kernelspec": {
      "display_name": "Python 3",
      "language": "python",
      "name": "python3"
    },
    "language_info": {
      "codemirror_mode": {
        "name": "ipython",
        "version": 3
      },
      "file_extension": ".py",
      "mimetype": "text/x-python",
      "name": "python",
      "nbconvert_exporter": "python",
      "pygments_lexer": "ipython3",
      "version": "3.7.3"
    },
    "colab": {
      "name": "Statistical_Project.ipynb",
      "provenance": [],
      "include_colab_link": true
    }
  },
  "cells": [
    {
      "cell_type": "markdown",
      "metadata": {
        "id": "view-in-github",
        "colab_type": "text"
      },
      "source": [
        "<a href=\"https://colab.research.google.com/github/vishvish66/Statistical_analysis_of_Football_Team/blob/master/Statistical_Project.ipynb\" target=\"_parent\"><img src=\"https://colab.research.google.com/assets/colab-badge.svg\" alt=\"Open In Colab\"/></a>"
      ]
    },
    {
      "cell_type": "markdown",
      "metadata": {
        "id": "7bbXqAhqUkMV",
        "colab_type": "text"
      },
      "source": [
        "# Project : Statistical Learning\n",
        "\n",
        "Deliverables :\n",
        "1. Read the data set and replace dashes with 0 to make sure you can perform arithmetic operations on the data. \n",
        "2. Print all the teams which have started playing between 1930-1980. \n",
        "3. Print the list of teams which came Top 5 in terms of points \n",
        "4. Write a function with name “Goal_diff_count” which should return all the teams with their Goal Differences. Using the same function, find the team which has maximum and minimum goal difference. \n",
        "Goal_diff_count = GoalsFor - GoalsAgainst\n",
        "5. Create a new column with name “Winning Percent” and append it to the data set \n",
        "    Percentage of Winning = (GamesWon / GamesPlayed)*100\n",
        "    If there are any numerical error, replace it with 0%\n",
        "    Print the top 5 teams which has the highest Winning percentage\n",
        "6. Group teams based on their “Best position” and print the sum of their points for all positions \n",
        "Eg: Best Position                Points\n",
        "          1                              25000\n",
        "          2                              7000      "
      ]
    },
    {
      "cell_type": "code",
      "metadata": {
        "id": "O_qqYQbiUkMW",
        "colab_type": "code",
        "colab": {}
      },
      "source": [
        "import numpy as np\n",
        "import pandas as pd"
      ],
      "execution_count": 0,
      "outputs": []
    },
    {
      "cell_type": "markdown",
      "metadata": {
        "id": "jCZvx-d8UkMb",
        "colab_type": "text"
      },
      "source": [
        "### 1. Read the data set"
      ]
    },
    {
      "cell_type": "code",
      "metadata": {
        "id": "8uqqaOxPUkMc",
        "colab_type": "code",
        "colab": {}
      },
      "source": [
        "df_Laliga = pd.read_csv('/content/Laliga.csv',header=1)"
      ],
      "execution_count": 0,
      "outputs": []
    },
    {
      "cell_type": "code",
      "metadata": {
        "id": "PDbe0Km2UkMf",
        "colab_type": "code",
        "colab": {
          "base_uri": "https://localhost:8080/",
          "height": 322
        },
        "outputId": "677c0376-f7f6-4de6-a226-feb4b3abbd05"
      },
      "source": [
        "#df_Laliga.head(3)\n",
        "df_Laliga.tail(5)"
      ],
      "execution_count": 14,
      "outputs": [
        {
          "output_type": "execute_result",
          "data": {
            "text/html": [
              "<div>\n",
              "<style scoped>\n",
              "    .dataframe tbody tr th:only-of-type {\n",
              "        vertical-align: middle;\n",
              "    }\n",
              "\n",
              "    .dataframe tbody tr th {\n",
              "        vertical-align: top;\n",
              "    }\n",
              "\n",
              "    .dataframe thead th {\n",
              "        text-align: right;\n",
              "    }\n",
              "</style>\n",
              "<table border=\"1\" class=\"dataframe\">\n",
              "  <thead>\n",
              "    <tr style=\"text-align: right;\">\n",
              "      <th></th>\n",
              "      <th>Pos</th>\n",
              "      <th>Team</th>\n",
              "      <th>Seasons</th>\n",
              "      <th>Points</th>\n",
              "      <th>GamesPlayed</th>\n",
              "      <th>GamesWon</th>\n",
              "      <th>GamesDrawn</th>\n",
              "      <th>GamesLost</th>\n",
              "      <th>GoalsFor</th>\n",
              "      <th>GoalsAgainst</th>\n",
              "      <th>Champion</th>\n",
              "      <th>Runner-up</th>\n",
              "      <th>Third</th>\n",
              "      <th>Fourth</th>\n",
              "      <th>Fifth</th>\n",
              "      <th>Sixth</th>\n",
              "      <th>T</th>\n",
              "      <th>Debut</th>\n",
              "      <th>Since/LastApp</th>\n",
              "      <th>BestPosition</th>\n",
              "    </tr>\n",
              "  </thead>\n",
              "  <tbody>\n",
              "    <tr>\n",
              "      <th>56</th>\n",
              "      <td>57</td>\n",
              "      <td>Xerez</td>\n",
              "      <td>1</td>\n",
              "      <td>34</td>\n",
              "      <td>38</td>\n",
              "      <td>8</td>\n",
              "      <td>10</td>\n",
              "      <td>20</td>\n",
              "      <td>38</td>\n",
              "      <td>66</td>\n",
              "      <td>-</td>\n",
              "      <td>-</td>\n",
              "      <td>-</td>\n",
              "      <td>-</td>\n",
              "      <td>-</td>\n",
              "      <td>-</td>\n",
              "      <td>-</td>\n",
              "      <td>2009-10</td>\n",
              "      <td>2009-10</td>\n",
              "      <td>20</td>\n",
              "    </tr>\n",
              "    <tr>\n",
              "      <th>57</th>\n",
              "      <td>58</td>\n",
              "      <td>Condal</td>\n",
              "      <td>1</td>\n",
              "      <td>22</td>\n",
              "      <td>30</td>\n",
              "      <td>7</td>\n",
              "      <td>8</td>\n",
              "      <td>15</td>\n",
              "      <td>37</td>\n",
              "      <td>57</td>\n",
              "      <td>-</td>\n",
              "      <td>-</td>\n",
              "      <td>-</td>\n",
              "      <td>-</td>\n",
              "      <td>-</td>\n",
              "      <td>-</td>\n",
              "      <td>-</td>\n",
              "      <td>1956-57</td>\n",
              "      <td>1956-57</td>\n",
              "      <td>16</td>\n",
              "    </tr>\n",
              "    <tr>\n",
              "      <th>58</th>\n",
              "      <td>59</td>\n",
              "      <td>Atletico Tetuan</td>\n",
              "      <td>1</td>\n",
              "      <td>19</td>\n",
              "      <td>30</td>\n",
              "      <td>7</td>\n",
              "      <td>5</td>\n",
              "      <td>18</td>\n",
              "      <td>51</td>\n",
              "      <td>85</td>\n",
              "      <td>-</td>\n",
              "      <td>-</td>\n",
              "      <td>-</td>\n",
              "      <td>-</td>\n",
              "      <td>-</td>\n",
              "      <td>-</td>\n",
              "      <td>-</td>\n",
              "      <td>1951-52</td>\n",
              "      <td>1951-52</td>\n",
              "      <td>16</td>\n",
              "    </tr>\n",
              "    <tr>\n",
              "      <th>59</th>\n",
              "      <td>60</td>\n",
              "      <td>Cultural Leonesa</td>\n",
              "      <td>1</td>\n",
              "      <td>14</td>\n",
              "      <td>30</td>\n",
              "      <td>5</td>\n",
              "      <td>4</td>\n",
              "      <td>21</td>\n",
              "      <td>34</td>\n",
              "      <td>65</td>\n",
              "      <td>-</td>\n",
              "      <td>-</td>\n",
              "      <td>-</td>\n",
              "      <td>-</td>\n",
              "      <td>-</td>\n",
              "      <td>-</td>\n",
              "      <td>-</td>\n",
              "      <td>1955-56</td>\n",
              "      <td>1955-56</td>\n",
              "      <td>15</td>\n",
              "    </tr>\n",
              "    <tr>\n",
              "      <th>60</th>\n",
              "      <td>61</td>\n",
              "      <td>Girona</td>\n",
              "      <td>1</td>\n",
              "      <td>-</td>\n",
              "      <td>-</td>\n",
              "      <td>-</td>\n",
              "      <td>-</td>\n",
              "      <td>-</td>\n",
              "      <td>-</td>\n",
              "      <td>-</td>\n",
              "      <td>-</td>\n",
              "      <td>-</td>\n",
              "      <td>-</td>\n",
              "      <td>-</td>\n",
              "      <td>-</td>\n",
              "      <td>-</td>\n",
              "      <td>-</td>\n",
              "      <td>2017-18</td>\n",
              "      <td>2017-18</td>\n",
              "      <td>9</td>\n",
              "    </tr>\n",
              "  </tbody>\n",
              "</table>\n",
              "</div>"
            ],
            "text/plain": [
              "    Pos              Team  Seasons  ...    Debut Since/LastApp BestPosition\n",
              "56   57             Xerez        1  ...  2009-10       2009-10           20\n",
              "57   58            Condal        1  ...  1956-57       1956-57           16\n",
              "58   59   Atletico Tetuan        1  ...  1951-52       1951-52           16\n",
              "59   60  Cultural Leonesa        1  ...  1955-56       1955-56           15\n",
              "60   61            Girona        1  ...  2017-18       2017-18            9\n",
              "\n",
              "[5 rows x 20 columns]"
            ]
          },
          "metadata": {
            "tags": []
          },
          "execution_count": 14
        }
      ]
    },
    {
      "cell_type": "code",
      "metadata": {
        "id": "0dbSYHGJUkMk",
        "colab_type": "code",
        "colab": {
          "base_uri": "https://localhost:8080/",
          "height": 489
        },
        "outputId": "d508d2d8-f697-4d0a-c8b2-6cf710d40965"
      },
      "source": [
        "#Print a concise summary of a DataFrame.\n",
        "df_Laliga.info()"
      ],
      "execution_count": 15,
      "outputs": [
        {
          "output_type": "stream",
          "text": [
            "<class 'pandas.core.frame.DataFrame'>\n",
            "RangeIndex: 61 entries, 0 to 60\n",
            "Data columns (total 20 columns):\n",
            " #   Column         Non-Null Count  Dtype \n",
            "---  ------         --------------  ----- \n",
            " 0   Pos            61 non-null     int64 \n",
            " 1   Team           61 non-null     object\n",
            " 2   Seasons        61 non-null     int64 \n",
            " 3   Points         61 non-null     object\n",
            " 4   GamesPlayed    61 non-null     object\n",
            " 5   GamesWon       61 non-null     object\n",
            " 6   GamesDrawn     61 non-null     object\n",
            " 7   GamesLost      61 non-null     object\n",
            " 8   GoalsFor       61 non-null     object\n",
            " 9   GoalsAgainst   61 non-null     object\n",
            " 10  Champion       61 non-null     object\n",
            " 11  Runner-up      61 non-null     object\n",
            " 12  Third          61 non-null     object\n",
            " 13  Fourth         61 non-null     object\n",
            " 14  Fifth          61 non-null     object\n",
            " 15  Sixth          61 non-null     object\n",
            " 16  T              61 non-null     object\n",
            " 17  Debut          61 non-null     object\n",
            " 18  Since/LastApp  61 non-null     object\n",
            " 19  BestPosition   61 non-null     int64 \n",
            "dtypes: int64(3), object(17)\n",
            "memory usage: 9.7+ KB\n"
          ],
          "name": "stdout"
        }
      ]
    },
    {
      "cell_type": "code",
      "metadata": {
        "id": "RuPZMiEkUkMo",
        "colab_type": "code",
        "colab": {
          "base_uri": "https://localhost:8080/",
          "height": 34
        },
        "outputId": "571830b0-28ff-4bd9-8782-6421462d6fe0"
      },
      "source": [
        "df_Laliga.shape # previously (62,20) now (61,20)"
      ],
      "execution_count": 16,
      "outputs": [
        {
          "output_type": "execute_result",
          "data": {
            "text/plain": [
              "(61, 20)"
            ]
          },
          "metadata": {
            "tags": []
          },
          "execution_count": 16
        }
      ]
    },
    {
      "cell_type": "markdown",
      "metadata": {
        "id": "6lChZcNRUkMs",
        "colab_type": "text"
      },
      "source": [
        "### Replace dashes with 0"
      ]
    },
    {
      "cell_type": "code",
      "metadata": {
        "id": "QZI5azw6UkMt",
        "colab_type": "code",
        "colab": {}
      },
      "source": [
        "# Using replace() - Replace values given in `to_replace` with `value`.\n",
        "df_Laliga.replace('-',0,inplace=True)"
      ],
      "execution_count": 0,
      "outputs": []
    },
    {
      "cell_type": "markdown",
      "metadata": {
        "id": "7ndBTzqSUkMx",
        "colab_type": "text"
      },
      "source": [
        "##### Airthematic operation - Addition/Substraction/Multiplication/Division"
      ]
    },
    {
      "cell_type": "code",
      "metadata": {
        "id": "gXffc2kyUkMy",
        "colab_type": "code",
        "colab": {
          "base_uri": "https://localhost:8080/",
          "height": 227
        },
        "outputId": "6eaa2d26-436f-4d4a-8416-52e8b2a3b768"
      },
      "source": [
        "# Checking operations.\n",
        "# Convert the datatype into int for performing the operations.\n",
        "\n",
        "\n",
        "# Considering the champions and runnerup in (Deportivo La Coruna) team.\n",
        "#Addition\n",
        "df_Laliga.iloc[:,10].astype(int) + df_Laliga.iloc[:,11].astype(int)\n",
        "\n",
        "#Substraction\n",
        "#df_Laliga.iloc[:,10].astype(int) - df_Laliga.iloc[:,11].astype(int)\n",
        "\n",
        "#Multiplication\n",
        "#df_Laliga.iloc[:,10].astype(int) * df_Laliga.iloc[:,11].astype(int)\n",
        "\n",
        "#Division\n",
        "#x = df_Laliga.iloc[:,10].astype(int)/df_Laliga.iloc[:,11].astype(int)\n",
        "#x.replace(np.inf, np.nan, inplace = True)\n",
        "#x.fillna(0,inplace = True)\n",
        "#x  \n"
      ],
      "execution_count": 18,
      "outputs": [
        {
          "output_type": "execute_result",
          "data": {
            "text/plain": [
              "0     56\n",
              "1     50\n",
              "2     18\n",
              "3     12\n",
              "4     15\n",
              "      ..\n",
              "56     0\n",
              "57     0\n",
              "58     0\n",
              "59     0\n",
              "60     0\n",
              "Length: 61, dtype: int64"
            ]
          },
          "metadata": {
            "tags": []
          },
          "execution_count": 18
        }
      ]
    },
    {
      "cell_type": "markdown",
      "metadata": {
        "id": "i0sQru2SUkM1",
        "colab_type": "text"
      },
      "source": [
        "### 2. Below teams started playing between 1930-1980. "
      ]
    },
    {
      "cell_type": "code",
      "metadata": {
        "id": "CZGVynvKUkM2",
        "colab_type": "code",
        "colab": {
          "base_uri": "https://localhost:8080/",
          "height": 1000
        },
        "outputId": "036b51c1-5fe8-40c2-dc17-eef858c96365"
      },
      "source": [
        "#Using Series.str and slice the first 4 characters, then cast to int:Then filter with Series.between and boolean indexing:\n",
        "df_DebutYear = df_Laliga[df_Laliga['Debut'].astype(str).str[:4].astype(int).between(1930, 1980)]\n",
        "\n",
        "\n",
        "# df_DebutYear[['Team','Debut']].count()   #37rows\n",
        "df_DebutYear[['Team','Debut']]"
      ],
      "execution_count": 19,
      "outputs": [
        {
          "output_type": "execute_result",
          "data": {
            "text/html": [
              "<div>\n",
              "<style scoped>\n",
              "    .dataframe tbody tr th:only-of-type {\n",
              "        vertical-align: middle;\n",
              "    }\n",
              "\n",
              "    .dataframe tbody tr th {\n",
              "        vertical-align: top;\n",
              "    }\n",
              "\n",
              "    .dataframe thead th {\n",
              "        text-align: right;\n",
              "    }\n",
              "</style>\n",
              "<table border=\"1\" class=\"dataframe\">\n",
              "  <thead>\n",
              "    <tr style=\"text-align: right;\">\n",
              "      <th></th>\n",
              "      <th>Team</th>\n",
              "      <th>Debut</th>\n",
              "    </tr>\n",
              "  </thead>\n",
              "  <tbody>\n",
              "    <tr>\n",
              "      <th>3</th>\n",
              "      <td>Valencia</td>\n",
              "      <td>1931-32</td>\n",
              "    </tr>\n",
              "    <tr>\n",
              "      <th>5</th>\n",
              "      <td>Sevilla</td>\n",
              "      <td>1934-35</td>\n",
              "    </tr>\n",
              "    <tr>\n",
              "      <th>8</th>\n",
              "      <td>Zaragoza</td>\n",
              "      <td>1939-40</td>\n",
              "    </tr>\n",
              "    <tr>\n",
              "      <th>9</th>\n",
              "      <td>Real Betis</td>\n",
              "      <td>1932-33</td>\n",
              "    </tr>\n",
              "    <tr>\n",
              "      <th>10</th>\n",
              "      <td>Deportivo La Coruna</td>\n",
              "      <td>1941-42</td>\n",
              "    </tr>\n",
              "    <tr>\n",
              "      <th>11</th>\n",
              "      <td>Celta Vigo</td>\n",
              "      <td>1939-40</td>\n",
              "    </tr>\n",
              "    <tr>\n",
              "      <th>12</th>\n",
              "      <td>Valladolid</td>\n",
              "      <td>1948-49</td>\n",
              "    </tr>\n",
              "    <tr>\n",
              "      <th>14</th>\n",
              "      <td>Sporting Gijon</td>\n",
              "      <td>1944-45</td>\n",
              "    </tr>\n",
              "    <tr>\n",
              "      <th>15</th>\n",
              "      <td>Osasuna</td>\n",
              "      <td>1935-36</td>\n",
              "    </tr>\n",
              "    <tr>\n",
              "      <th>16</th>\n",
              "      <td>Malaga</td>\n",
              "      <td>1949-50</td>\n",
              "    </tr>\n",
              "    <tr>\n",
              "      <th>17</th>\n",
              "      <td>Oviedo</td>\n",
              "      <td>1933-34</td>\n",
              "    </tr>\n",
              "    <tr>\n",
              "      <th>18</th>\n",
              "      <td>Mallorca</td>\n",
              "      <td>1960-61</td>\n",
              "    </tr>\n",
              "    <tr>\n",
              "      <th>19</th>\n",
              "      <td>Las Palmas</td>\n",
              "      <td>1951-52</td>\n",
              "    </tr>\n",
              "    <tr>\n",
              "      <th>21</th>\n",
              "      <td>Granada</td>\n",
              "      <td>1941-42</td>\n",
              "    </tr>\n",
              "    <tr>\n",
              "      <th>22</th>\n",
              "      <td>Rayo Vallecano</td>\n",
              "      <td>1977-78</td>\n",
              "    </tr>\n",
              "    <tr>\n",
              "      <th>23</th>\n",
              "      <td>Elche</td>\n",
              "      <td>1959-60</td>\n",
              "    </tr>\n",
              "    <tr>\n",
              "      <th>25</th>\n",
              "      <td>Hercules</td>\n",
              "      <td>1935-36</td>\n",
              "    </tr>\n",
              "    <tr>\n",
              "      <th>26</th>\n",
              "      <td>Tenerife</td>\n",
              "      <td>1961-62</td>\n",
              "    </tr>\n",
              "    <tr>\n",
              "      <th>27</th>\n",
              "      <td>Murcia</td>\n",
              "      <td>1940-41</td>\n",
              "    </tr>\n",
              "    <tr>\n",
              "      <th>28</th>\n",
              "      <td>Alaves</td>\n",
              "      <td>1930-31</td>\n",
              "    </tr>\n",
              "    <tr>\n",
              "      <th>29</th>\n",
              "      <td>Levante</td>\n",
              "      <td>1963-64</td>\n",
              "    </tr>\n",
              "    <tr>\n",
              "      <th>30</th>\n",
              "      <td>Salamanca</td>\n",
              "      <td>1974-75</td>\n",
              "    </tr>\n",
              "    <tr>\n",
              "      <th>31</th>\n",
              "      <td>Sabadell</td>\n",
              "      <td>1943-44</td>\n",
              "    </tr>\n",
              "    <tr>\n",
              "      <th>32</th>\n",
              "      <td>Cadiz</td>\n",
              "      <td>1977-78</td>\n",
              "    </tr>\n",
              "    <tr>\n",
              "      <th>34</th>\n",
              "      <td>Castellon</td>\n",
              "      <td>1941-42</td>\n",
              "    </tr>\n",
              "    <tr>\n",
              "      <th>37</th>\n",
              "      <td>Cordoba</td>\n",
              "      <td>1962-63</td>\n",
              "    </tr>\n",
              "    <tr>\n",
              "      <th>39</th>\n",
              "      <td>Recreativo</td>\n",
              "      <td>1978-79</td>\n",
              "    </tr>\n",
              "    <tr>\n",
              "      <th>40</th>\n",
              "      <td>Burgos CF</td>\n",
              "      <td>1971-72</td>\n",
              "    </tr>\n",
              "    <tr>\n",
              "      <th>41</th>\n",
              "      <td>Pontevedra</td>\n",
              "      <td>1963-64</td>\n",
              "    </tr>\n",
              "    <tr>\n",
              "      <th>46</th>\n",
              "      <td>Gimnastic</td>\n",
              "      <td>1947-48</td>\n",
              "    </tr>\n",
              "    <tr>\n",
              "      <th>49</th>\n",
              "      <td>Alcoyano</td>\n",
              "      <td>1945-46</td>\n",
              "    </tr>\n",
              "    <tr>\n",
              "      <th>50</th>\n",
              "      <td>Jaen</td>\n",
              "      <td>1953-54</td>\n",
              "    </tr>\n",
              "    <tr>\n",
              "      <th>52</th>\n",
              "      <td>AD Almeria</td>\n",
              "      <td>1979-80</td>\n",
              "    </tr>\n",
              "    <tr>\n",
              "      <th>54</th>\n",
              "      <td>Lleida</td>\n",
              "      <td>1950-51</td>\n",
              "    </tr>\n",
              "    <tr>\n",
              "      <th>57</th>\n",
              "      <td>Condal</td>\n",
              "      <td>1956-57</td>\n",
              "    </tr>\n",
              "    <tr>\n",
              "      <th>58</th>\n",
              "      <td>Atletico Tetuan</td>\n",
              "      <td>1951-52</td>\n",
              "    </tr>\n",
              "    <tr>\n",
              "      <th>59</th>\n",
              "      <td>Cultural Leonesa</td>\n",
              "      <td>1955-56</td>\n",
              "    </tr>\n",
              "  </tbody>\n",
              "</table>\n",
              "</div>"
            ],
            "text/plain": [
              "                   Team    Debut\n",
              "3              Valencia  1931-32\n",
              "5               Sevilla  1934-35\n",
              "8              Zaragoza  1939-40\n",
              "9            Real Betis  1932-33\n",
              "10  Deportivo La Coruna  1941-42\n",
              "11           Celta Vigo  1939-40\n",
              "12           Valladolid  1948-49\n",
              "14       Sporting Gijon  1944-45\n",
              "15              Osasuna  1935-36\n",
              "16               Malaga  1949-50\n",
              "17               Oviedo  1933-34\n",
              "18             Mallorca  1960-61\n",
              "19           Las Palmas  1951-52\n",
              "21              Granada  1941-42\n",
              "22       Rayo Vallecano  1977-78\n",
              "23                Elche  1959-60\n",
              "25             Hercules  1935-36\n",
              "26             Tenerife  1961-62\n",
              "27               Murcia  1940-41\n",
              "28               Alaves  1930-31\n",
              "29              Levante  1963-64\n",
              "30            Salamanca  1974-75\n",
              "31             Sabadell  1943-44\n",
              "32                Cadiz  1977-78\n",
              "34            Castellon  1941-42\n",
              "37              Cordoba  1962-63\n",
              "39           Recreativo  1978-79\n",
              "40            Burgos CF  1971-72\n",
              "41           Pontevedra  1963-64\n",
              "46            Gimnastic  1947-48\n",
              "49             Alcoyano  1945-46\n",
              "50                 Jaen  1953-54\n",
              "52           AD Almeria  1979-80\n",
              "54               Lleida  1950-51\n",
              "57               Condal  1956-57\n",
              "58      Atletico Tetuan  1951-52\n",
              "59     Cultural Leonesa  1955-56"
            ]
          },
          "metadata": {
            "tags": []
          },
          "execution_count": 19
        }
      ]
    },
    {
      "cell_type": "markdown",
      "metadata": {
        "id": "JTNNwZIkUkM7",
        "colab_type": "text"
      },
      "source": [
        "### 3. Print the list of teams which came Top 5 in terms of points"
      ]
    },
    {
      "cell_type": "code",
      "metadata": {
        "id": "1bxM32C3UkM8",
        "colab_type": "code",
        "colab": {}
      },
      "source": [
        "# For using sort_values() function changing the datatype from str to int.\n",
        "df_Laliga['Points'] = df_Laliga['Points'].astype(int)"
      ],
      "execution_count": 0,
      "outputs": []
    },
    {
      "cell_type": "code",
      "metadata": {
        "id": "Um3ckyNRUkNA",
        "colab_type": "code",
        "colab": {
          "base_uri": "https://localhost:8080/",
          "height": 201
        },
        "outputId": "e4865770-ce25-4e36-dee4-3dae5cce2a7d"
      },
      "source": [
        "# Giving \"ascending = False\" for getting the largest values on the top or arranging it in the descending order. Using head()\n",
        "# for picking top records.\n",
        "df_Laliga[['Points','Team']].sort_values(by = 'Points',ascending = False).head(5)"
      ],
      "execution_count": 21,
      "outputs": [
        {
          "output_type": "execute_result",
          "data": {
            "text/html": [
              "<div>\n",
              "<style scoped>\n",
              "    .dataframe tbody tr th:only-of-type {\n",
              "        vertical-align: middle;\n",
              "    }\n",
              "\n",
              "    .dataframe tbody tr th {\n",
              "        vertical-align: top;\n",
              "    }\n",
              "\n",
              "    .dataframe thead th {\n",
              "        text-align: right;\n",
              "    }\n",
              "</style>\n",
              "<table border=\"1\" class=\"dataframe\">\n",
              "  <thead>\n",
              "    <tr style=\"text-align: right;\">\n",
              "      <th></th>\n",
              "      <th>Points</th>\n",
              "      <th>Team</th>\n",
              "    </tr>\n",
              "  </thead>\n",
              "  <tbody>\n",
              "    <tr>\n",
              "      <th>0</th>\n",
              "      <td>4385</td>\n",
              "      <td>Real Madrid</td>\n",
              "    </tr>\n",
              "    <tr>\n",
              "      <th>1</th>\n",
              "      <td>4262</td>\n",
              "      <td>Barcelona</td>\n",
              "    </tr>\n",
              "    <tr>\n",
              "      <th>2</th>\n",
              "      <td>3442</td>\n",
              "      <td>Atletico Madrid</td>\n",
              "    </tr>\n",
              "    <tr>\n",
              "      <th>3</th>\n",
              "      <td>3386</td>\n",
              "      <td>Valencia</td>\n",
              "    </tr>\n",
              "    <tr>\n",
              "      <th>4</th>\n",
              "      <td>3368</td>\n",
              "      <td>Athletic Bilbao</td>\n",
              "    </tr>\n",
              "  </tbody>\n",
              "</table>\n",
              "</div>"
            ],
            "text/plain": [
              "   Points             Team\n",
              "0    4385      Real Madrid\n",
              "1    4262        Barcelona\n",
              "2    3442  Atletico Madrid\n",
              "3    3386         Valencia\n",
              "4    3368  Athletic Bilbao"
            ]
          },
          "metadata": {
            "tags": []
          },
          "execution_count": 21
        }
      ]
    },
    {
      "cell_type": "markdown",
      "metadata": {
        "id": "YFrBirPLUkNE",
        "colab_type": "text"
      },
      "source": [
        "### 4. Write a function with name “Goal_diff_count” which should return all the teams with their Goal Differences.\n",
        "Using the same function, find the team which has maximum and minimum goal difference.\n",
        "(5 points) Goal_diff_count = GoalsFor - GoalsAgainst"
      ]
    },
    {
      "cell_type": "code",
      "metadata": {
        "id": "EVx-O9qRUkNF",
        "colab_type": "code",
        "colab": {
          "base_uri": "https://localhost:8080/",
          "height": 414
        },
        "outputId": "8c6c6cfe-29a3-41a1-cbe3-4817e969d5cc"
      },
      "source": [
        "def Goal_diff_count():   \n",
        "     df_Laliga['Goal_diff_count'] = df_Laliga['GoalsFor'].astype(int)-df_Laliga['GoalsAgainst'].astype(int)\n",
        "     # if require to get the absolute value below line can be used\n",
        "     # df_Laliga['Goal_diff_count'] = df_Laliga['Goal_diff_count'].abs()\n",
        "     return df_Laliga[['Team','Goal_diff_count']].sort_values(by = 'Goal_diff_count',ascending=False)\n",
        "    \n",
        "Goal_diff_count()"
      ],
      "execution_count": 22,
      "outputs": [
        {
          "output_type": "execute_result",
          "data": {
            "text/html": [
              "<div>\n",
              "<style scoped>\n",
              "    .dataframe tbody tr th:only-of-type {\n",
              "        vertical-align: middle;\n",
              "    }\n",
              "\n",
              "    .dataframe tbody tr th {\n",
              "        vertical-align: top;\n",
              "    }\n",
              "\n",
              "    .dataframe thead th {\n",
              "        text-align: right;\n",
              "    }\n",
              "</style>\n",
              "<table border=\"1\" class=\"dataframe\">\n",
              "  <thead>\n",
              "    <tr style=\"text-align: right;\">\n",
              "      <th></th>\n",
              "      <th>Team</th>\n",
              "      <th>Goal_diff_count</th>\n",
              "    </tr>\n",
              "  </thead>\n",
              "  <tbody>\n",
              "    <tr>\n",
              "      <th>0</th>\n",
              "      <td>Real Madrid</td>\n",
              "      <td>2807</td>\n",
              "    </tr>\n",
              "    <tr>\n",
              "      <th>1</th>\n",
              "      <td>Barcelona</td>\n",
              "      <td>2786</td>\n",
              "    </tr>\n",
              "    <tr>\n",
              "      <th>2</th>\n",
              "      <td>Atletico Madrid</td>\n",
              "      <td>1225</td>\n",
              "    </tr>\n",
              "    <tr>\n",
              "      <th>4</th>\n",
              "      <td>Athletic Bilbao</td>\n",
              "      <td>931</td>\n",
              "    </tr>\n",
              "    <tr>\n",
              "      <th>3</th>\n",
              "      <td>Valencia</td>\n",
              "      <td>929</td>\n",
              "    </tr>\n",
              "    <tr>\n",
              "      <th>...</th>\n",
              "      <td>...</td>\n",
              "      <td>...</td>\n",
              "    </tr>\n",
              "    <tr>\n",
              "      <th>27</th>\n",
              "      <td>Murcia</td>\n",
              "      <td>-385</td>\n",
              "    </tr>\n",
              "    <tr>\n",
              "      <th>19</th>\n",
              "      <td>Las Palmas</td>\n",
              "      <td>-399</td>\n",
              "    </tr>\n",
              "    <tr>\n",
              "      <th>14</th>\n",
              "      <td>Sporting Gijon</td>\n",
              "      <td>-399</td>\n",
              "    </tr>\n",
              "    <tr>\n",
              "      <th>12</th>\n",
              "      <td>Valladolid</td>\n",
              "      <td>-413</td>\n",
              "    </tr>\n",
              "    <tr>\n",
              "      <th>13</th>\n",
              "      <td>Racing Santander</td>\n",
              "      <td>-525</td>\n",
              "    </tr>\n",
              "  </tbody>\n",
              "</table>\n",
              "<p>61 rows × 2 columns</p>\n",
              "</div>"
            ],
            "text/plain": [
              "                Team  Goal_diff_count\n",
              "0        Real Madrid             2807\n",
              "1          Barcelona             2786\n",
              "2    Atletico Madrid             1225\n",
              "4    Athletic Bilbao              931\n",
              "3           Valencia              929\n",
              "..               ...              ...\n",
              "27            Murcia             -385\n",
              "19        Las Palmas             -399\n",
              "14    Sporting Gijon             -399\n",
              "12        Valladolid             -413\n",
              "13  Racing Santander             -525\n",
              "\n",
              "[61 rows x 2 columns]"
            ]
          },
          "metadata": {
            "tags": []
          },
          "execution_count": 22
        }
      ]
    },
    {
      "cell_type": "code",
      "metadata": {
        "id": "Xit2fLkPUkNI",
        "colab_type": "code",
        "colab": {
          "base_uri": "https://localhost:8080/",
          "height": 96
        },
        "outputId": "25f532f7-0d3e-4133-d801-3749f14bc55b"
      },
      "source": [
        "print(\"The team which has maximum goal difference is :\")\n",
        "Goal_diff_count().head(1)"
      ],
      "execution_count": 23,
      "outputs": [
        {
          "output_type": "stream",
          "text": [
            "The team which has maximum goal difference is :\n"
          ],
          "name": "stdout"
        },
        {
          "output_type": "execute_result",
          "data": {
            "text/html": [
              "<div>\n",
              "<style scoped>\n",
              "    .dataframe tbody tr th:only-of-type {\n",
              "        vertical-align: middle;\n",
              "    }\n",
              "\n",
              "    .dataframe tbody tr th {\n",
              "        vertical-align: top;\n",
              "    }\n",
              "\n",
              "    .dataframe thead th {\n",
              "        text-align: right;\n",
              "    }\n",
              "</style>\n",
              "<table border=\"1\" class=\"dataframe\">\n",
              "  <thead>\n",
              "    <tr style=\"text-align: right;\">\n",
              "      <th></th>\n",
              "      <th>Team</th>\n",
              "      <th>Goal_diff_count</th>\n",
              "    </tr>\n",
              "  </thead>\n",
              "  <tbody>\n",
              "    <tr>\n",
              "      <th>0</th>\n",
              "      <td>Real Madrid</td>\n",
              "      <td>2807</td>\n",
              "    </tr>\n",
              "  </tbody>\n",
              "</table>\n",
              "</div>"
            ],
            "text/plain": [
              "          Team  Goal_diff_count\n",
              "0  Real Madrid             2807"
            ]
          },
          "metadata": {
            "tags": []
          },
          "execution_count": 23
        }
      ]
    },
    {
      "cell_type": "code",
      "metadata": {
        "id": "M0aiZlO5UkNL",
        "colab_type": "code",
        "colab": {
          "base_uri": "https://localhost:8080/",
          "height": 96
        },
        "outputId": "98262082-8300-431a-bc92-76cf9b49b036"
      },
      "source": [
        "print(\"The team which has minimum goal difference is :\")\n",
        "Goal_diff_count().tail(1)"
      ],
      "execution_count": 24,
      "outputs": [
        {
          "output_type": "stream",
          "text": [
            "The team which has minimum goal difference is :\n"
          ],
          "name": "stdout"
        },
        {
          "output_type": "execute_result",
          "data": {
            "text/html": [
              "<div>\n",
              "<style scoped>\n",
              "    .dataframe tbody tr th:only-of-type {\n",
              "        vertical-align: middle;\n",
              "    }\n",
              "\n",
              "    .dataframe tbody tr th {\n",
              "        vertical-align: top;\n",
              "    }\n",
              "\n",
              "    .dataframe thead th {\n",
              "        text-align: right;\n",
              "    }\n",
              "</style>\n",
              "<table border=\"1\" class=\"dataframe\">\n",
              "  <thead>\n",
              "    <tr style=\"text-align: right;\">\n",
              "      <th></th>\n",
              "      <th>Team</th>\n",
              "      <th>Goal_diff_count</th>\n",
              "    </tr>\n",
              "  </thead>\n",
              "  <tbody>\n",
              "    <tr>\n",
              "      <th>13</th>\n",
              "      <td>Racing Santander</td>\n",
              "      <td>-525</td>\n",
              "    </tr>\n",
              "  </tbody>\n",
              "</table>\n",
              "</div>"
            ],
            "text/plain": [
              "                Team  Goal_diff_count\n",
              "13  Racing Santander             -525"
            ]
          },
          "metadata": {
            "tags": []
          },
          "execution_count": 24
        }
      ]
    },
    {
      "cell_type": "markdown",
      "metadata": {
        "id": "8rbipZJ_UkNO",
        "colab_type": "text"
      },
      "source": [
        "#### 5.Create a new column with name “Winning Percent” and append it to the data set (5 points) Percentage of Winning = (GamesWon / GamesPlayed)*100 If there are any numerical error, replace it with 0% \n",
        "\n",
        "Print the top 5 teams which has the highest Winning percentage"
      ]
    },
    {
      "cell_type": "code",
      "metadata": {
        "id": "L8SHkOrUUkNO",
        "colab_type": "code",
        "colab": {}
      },
      "source": [
        "#Percentage of Winning = (GamesWon / GamesPlayed)*100 \n",
        "df_Laliga['Winning Percent'] = (df_Laliga['GamesWon'].astype(int)/df_Laliga['GamesPlayed'].astype(int)) *100"
      ],
      "execution_count": 0,
      "outputs": []
    },
    {
      "cell_type": "code",
      "metadata": {
        "id": "6Wz2mhe_UkNR",
        "colab_type": "code",
        "colab": {}
      },
      "source": [
        "df_Laliga['Winning Percent'].fillna(0,inplace = True)"
      ],
      "execution_count": 0,
      "outputs": []
    },
    {
      "cell_type": "code",
      "metadata": {
        "id": "_UmK2YuMUkNU",
        "colab_type": "code",
        "colab": {
          "base_uri": "https://localhost:8080/",
          "height": 201
        },
        "outputId": "f2244a3c-8b64-4fd4-f4df-3fcad5b4ad42"
      },
      "source": [
        "#Check\n",
        "df_Laliga[['Team','Winning Percent']].head(5)"
      ],
      "execution_count": 27,
      "outputs": [
        {
          "output_type": "execute_result",
          "data": {
            "text/html": [
              "<div>\n",
              "<style scoped>\n",
              "    .dataframe tbody tr th:only-of-type {\n",
              "        vertical-align: middle;\n",
              "    }\n",
              "\n",
              "    .dataframe tbody tr th {\n",
              "        vertical-align: top;\n",
              "    }\n",
              "\n",
              "    .dataframe thead th {\n",
              "        text-align: right;\n",
              "    }\n",
              "</style>\n",
              "<table border=\"1\" class=\"dataframe\">\n",
              "  <thead>\n",
              "    <tr style=\"text-align: right;\">\n",
              "      <th></th>\n",
              "      <th>Team</th>\n",
              "      <th>Winning Percent</th>\n",
              "    </tr>\n",
              "  </thead>\n",
              "  <tbody>\n",
              "    <tr>\n",
              "      <th>0</th>\n",
              "      <td>Real Madrid</td>\n",
              "      <td>59.630702</td>\n",
              "    </tr>\n",
              "    <tr>\n",
              "      <th>1</th>\n",
              "      <td>Barcelona</td>\n",
              "      <td>57.241130</td>\n",
              "    </tr>\n",
              "    <tr>\n",
              "      <th>2</th>\n",
              "      <td>Atletico Madrid</td>\n",
              "      <td>47.475134</td>\n",
              "    </tr>\n",
              "    <tr>\n",
              "      <th>3</th>\n",
              "      <td>Valencia</td>\n",
              "      <td>44.557057</td>\n",
              "    </tr>\n",
              "    <tr>\n",
              "      <th>4</th>\n",
              "      <td>Athletic Bilbao</td>\n",
              "      <td>43.772629</td>\n",
              "    </tr>\n",
              "  </tbody>\n",
              "</table>\n",
              "</div>"
            ],
            "text/plain": [
              "              Team  Winning Percent\n",
              "0      Real Madrid        59.630702\n",
              "1        Barcelona        57.241130\n",
              "2  Atletico Madrid        47.475134\n",
              "3         Valencia        44.557057\n",
              "4  Athletic Bilbao        43.772629"
            ]
          },
          "metadata": {
            "tags": []
          },
          "execution_count": 27
        }
      ]
    },
    {
      "cell_type": "markdown",
      "metadata": {
        "id": "O0Hs5cO2UkNY",
        "colab_type": "text"
      },
      "source": [
        "### 6. Group teams based on their “Best position” and print the sum of their points for all positions (5 points) \n",
        "Eg: BestPosition         Points\n",
        "       1                 25000\n",
        "       2                 7000      "
      ]
    },
    {
      "cell_type": "code",
      "metadata": {
        "id": "_b90Wz4sUkNY",
        "colab_type": "code",
        "colab": {
          "base_uri": "https://localhost:8080/",
          "height": 34
        },
        "outputId": "a07bcef5-9d8d-4424-feac-cbe3efe91ff7"
      },
      "source": [
        "# Storing in the object for using sum().\n",
        "grouped_BestPosition = df_Laliga[['Team','Points','BestPosition']].groupby('BestPosition')\n",
        "grouped_BestPosition"
      ],
      "execution_count": 28,
      "outputs": [
        {
          "output_type": "execute_result",
          "data": {
            "text/plain": [
              "<pandas.core.groupby.generic.DataFrameGroupBy object at 0x7f2de7887eb8>"
            ]
          },
          "metadata": {
            "tags": []
          },
          "execution_count": 28
        }
      ]
    },
    {
      "cell_type": "code",
      "metadata": {
        "id": "NiNoVpi_UkNc",
        "colab_type": "code",
        "colab": {
          "base_uri": "https://localhost:8080/",
          "height": 630
        },
        "outputId": "43e9bd6c-47ac-45d1-e04f-e960d3b96395"
      },
      "source": [
        "#Compute sum of group values\n",
        "grouped_BestPosition.sum()"
      ],
      "execution_count": 30,
      "outputs": [
        {
          "output_type": "execute_result",
          "data": {
            "text/html": [
              "<div>\n",
              "<style scoped>\n",
              "    .dataframe tbody tr th:only-of-type {\n",
              "        vertical-align: middle;\n",
              "    }\n",
              "\n",
              "    .dataframe tbody tr th {\n",
              "        vertical-align: top;\n",
              "    }\n",
              "\n",
              "    .dataframe thead th {\n",
              "        text-align: right;\n",
              "    }\n",
              "</style>\n",
              "<table border=\"1\" class=\"dataframe\">\n",
              "  <thead>\n",
              "    <tr style=\"text-align: right;\">\n",
              "      <th></th>\n",
              "      <th>Points</th>\n",
              "    </tr>\n",
              "    <tr>\n",
              "      <th>BestPosition</th>\n",
              "      <th></th>\n",
              "    </tr>\n",
              "  </thead>\n",
              "  <tbody>\n",
              "    <tr>\n",
              "      <th>1</th>\n",
              "      <td>27933</td>\n",
              "    </tr>\n",
              "    <tr>\n",
              "      <th>2</th>\n",
              "      <td>6904</td>\n",
              "    </tr>\n",
              "    <tr>\n",
              "      <th>3</th>\n",
              "      <td>5221</td>\n",
              "    </tr>\n",
              "    <tr>\n",
              "      <th>4</th>\n",
              "      <td>6563</td>\n",
              "    </tr>\n",
              "    <tr>\n",
              "      <th>5</th>\n",
              "      <td>1884</td>\n",
              "    </tr>\n",
              "    <tr>\n",
              "      <th>6</th>\n",
              "      <td>2113</td>\n",
              "    </tr>\n",
              "    <tr>\n",
              "      <th>7</th>\n",
              "      <td>1186</td>\n",
              "    </tr>\n",
              "    <tr>\n",
              "      <th>8</th>\n",
              "      <td>1134</td>\n",
              "    </tr>\n",
              "    <tr>\n",
              "      <th>9</th>\n",
              "      <td>96</td>\n",
              "    </tr>\n",
              "    <tr>\n",
              "      <th>10</th>\n",
              "      <td>450</td>\n",
              "    </tr>\n",
              "    <tr>\n",
              "      <th>11</th>\n",
              "      <td>445</td>\n",
              "    </tr>\n",
              "    <tr>\n",
              "      <th>12</th>\n",
              "      <td>511</td>\n",
              "    </tr>\n",
              "    <tr>\n",
              "      <th>14</th>\n",
              "      <td>71</td>\n",
              "    </tr>\n",
              "    <tr>\n",
              "      <th>15</th>\n",
              "      <td>14</td>\n",
              "    </tr>\n",
              "    <tr>\n",
              "      <th>16</th>\n",
              "      <td>81</td>\n",
              "    </tr>\n",
              "    <tr>\n",
              "      <th>17</th>\n",
              "      <td>266</td>\n",
              "    </tr>\n",
              "    <tr>\n",
              "      <th>19</th>\n",
              "      <td>81</td>\n",
              "    </tr>\n",
              "    <tr>\n",
              "      <th>20</th>\n",
              "      <td>34</td>\n",
              "    </tr>\n",
              "  </tbody>\n",
              "</table>\n",
              "</div>"
            ],
            "text/plain": [
              "              Points\n",
              "BestPosition        \n",
              "1              27933\n",
              "2               6904\n",
              "3               5221\n",
              "4               6563\n",
              "5               1884\n",
              "6               2113\n",
              "7               1186\n",
              "8               1134\n",
              "9                 96\n",
              "10               450\n",
              "11               445\n",
              "12               511\n",
              "14                71\n",
              "15                14\n",
              "16                81\n",
              "17               266\n",
              "19                81\n",
              "20                34"
            ]
          },
          "metadata": {
            "tags": []
          },
          "execution_count": 30
        }
      ]
    }
  ]
}